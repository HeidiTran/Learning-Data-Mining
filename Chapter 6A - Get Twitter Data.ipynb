{
 "cells": [
  {
   "cell_type": "code",
   "execution_count": 7,
   "metadata": {},
   "outputs": [],
   "source": [
    "import twitter\n",
    "consumer_key = \"YOUR-CONSUMER-KEY\"\n",
    "consumer_secret = \"YOUR-CONSUMER-SECRET\"\n",
    "access_token = \"YOUR-ACCESS-TOKEN\"\n",
    "access_token_secret = \"YOUR-ACCES-TOKEN-SECRET\"\n",
    "authorization = twitter.OAuth(access_token, access_token_secret, consumer_key, consumer_secret)"
   ]
  },
  {
   "cell_type": "code",
   "execution_count": 8,
   "metadata": {},
   "outputs": [],
   "source": [
    "output_filename = \"data/datasets/twitter/python_tweets.json\""
   ]
  },
  {
   "cell_type": "code",
   "execution_count": 9,
   "metadata": {},
   "outputs": [],
   "source": [
    "# A reader that connects to Twitter using our authorization, \n",
    "# and use that reader to perform searches\n",
    "t = twitter.Twitter(auth=authorization)"
   ]
  },
  {
   "cell_type": "code",
   "execution_count": 10,
   "metadata": {},
   "outputs": [
    {
     "name": "stdout",
     "output_type": "stream",
     "text": [
      "Saved 100 entries\n"
     ]
    }
   ],
   "source": [
    "import json\n",
    "\n",
    "n_output = 0\n",
    "\n",
    "with open(output_filename, 'a') as output_file:\n",
    "    # Search for tweets containing \"python\"\n",
    "    search_results = t.search.tweets(q=\"python\", count=100)['statuses']\n",
    "    \n",
    "    # Not all objects returned by twitter will be actual tweets\n",
    "    # if 'text' in tweet -> it's a tweet\n",
    "    for tweet in search_results:\n",
    "        if 'text' in tweet:\n",
    "            output_file.write(json.dumps(tweet))\n",
    "            output_file.write(\"\\n\\n\")\n",
    "            n_output += 1\n",
    "\n",
    "print(\"Saved {} entries\".format(n_output))"
   ]
  },
  {
   "cell_type": "code",
   "execution_count": null,
   "metadata": {},
   "outputs": [],
   "source": []
  }
 ],
 "metadata": {
  "kernelspec": {
   "display_name": "Python 3",
   "language": "python",
   "name": "python3"
  },
  "language_info": {
   "codemirror_mode": {
    "name": "ipython",
    "version": 3
   },
   "file_extension": ".py",
   "mimetype": "text/x-python",
   "name": "python",
   "nbconvert_exporter": "python",
   "pygments_lexer": "ipython3",
   "version": "3.8.5"
  }
 },
 "nbformat": 4,
 "nbformat_minor": 4
}
