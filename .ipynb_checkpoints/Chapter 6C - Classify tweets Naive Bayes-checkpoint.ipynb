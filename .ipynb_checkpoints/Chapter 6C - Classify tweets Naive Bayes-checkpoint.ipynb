{
 "cells": [
  {
   "cell_type": "markdown",
   "metadata": {},
   "source": [
    "# Extract word counts"
   ]
  },
  {
   "cell_type": "code",
   "execution_count": null,
   "metadata": {},
   "outputs": [],
   "source": [
    "import spacy\n",
    "from sklearn.base import TransformerMixin\n",
    "\n",
    "# Create a spaCy parser\n",
    "# In Conda, to download lexicons\n",
    "# python3 -m spacy download en\n",
    "nlp = spacy.load('en')\n",
    "\n",
    "\n",
    "class BagOfWords(TransformerMixin):\n",
    "    def fit(self, X, y=None):\n",
    "        return self\n",
    "    \n",
    "    def transform(self, X):\n",
    "        '''\n",
    "        Extract each word from each document and record True if it was discovered\n",
    "        @return list of dictionaries, where the first dictionary is the list of words\n",
    "        in the first tweet, and so on. For each dict, key is a word and the value is\n",
    "        True to indicate this word was discovered. Any word not in the dictionay will \n",
    "        be assumed to not occurred in the tweet.\n",
    "        '''\n",
    "        results = []\n",
    "        for document in X:\n",
    "            row = {}\n",
    "            for word in list(nlp(document, tag=False, parse=False, entity=False)):\n",
    "                if len(word.text.strip()):\n",
    "                    # We only use binary features here \n",
    "                    # True if the word is in the doc, False otherwise\n",
    "                    row[word.text] = True\n",
    "            results.append(row)\n",
    "        return results"
   ]
  },
  {
   "cell_type": "markdown",
   "metadata": {},
   "source": [
    "# Converts dictionaries into a matrix\n",
    "`DictVectorizer` takes a list of dictionaries and converts them into a matrix. The features in this matrix are the keys in each of the dictionaries, and the vlaues correspond to the occurrence of those features in each sample. "
   ]
  },
  {
   "cell_type": "code",
   "execution_count": null,
   "metadata": {},
   "outputs": [],
   "source": [
    "from sklearn.feature_extraction import DictVectorizer\n",
    "from sklearn.naive_bayes import BernoulliNB # BernoulliNB is designed for binary features\n",
    "import json\n",
    "\n",
    "input_filename = \"data/datasets/twitter/python_tweets.json\"\n",
    "labels_filename = \"data/datasets/twitter/python_classes.json\"\n",
    "\n",
    "tweets = []\n",
    "with open(input_filename) as inf:\n",
    "    for line in inf:\n",
    "        if len(line.strip()) == 0: continue\n",
    "        tweets.append(json.loads(line)['text'])\n",
    "\n",
    "with open(labels_filename) as inf:\n",
    "    labels = json.load(inf)\n",
    "\n",
    "# Ensure only classified tweets are loaded\n",
    "tweets = tweets[:len(labels)]\n",
    "assert len(tweets) == len(labels)"
   ]
  },
  {
   "cell_type": "markdown",
   "metadata": {},
   "source": [
    "#### Putting it all together"
   ]
  },
  {
   "cell_type": "code",
   "execution_count": null,
   "metadata": {},
   "outputs": [],
   "source": [
    "from sklearn.pipeline import Pipeline\n",
    "\n",
    "pipeline = Pipeline([('bag-of-words', BagOfWords()), ('vectorizer', DictVectorizer()), ('naive-bayes', BernoulliNB()) ])"
   ]
  },
  {
   "cell_type": "code",
   "execution_count": null,
   "metadata": {},
   "outputs": [],
   "source": [
    "from sklearn.model_selection import cross_val_score\n",
    "import numpy as np\n",
    "\n",
    "scores = cross_val_score(pipeline, tweets, labels, scoring='f1')\n",
    "print(\"Score: {:.3f}\".format(np.mean(scores)))"
   ]
  },
  {
   "cell_type": "markdown",
   "metadata": {},
   "source": [
    "# What are the most important features to the model"
   ]
  },
  {
   "cell_type": "code",
   "execution_count": null,
   "metadata": {},
   "outputs": [],
   "source": [
    "model = pipeline.fit(tweets, labels)\n",
    "\n",
    "# Get only the Naive Bayes step from the pipeline\n",
    "nb = model.named_steps['naive-bayes']\n",
    "\n",
    "# Each unique word is a feature. \n",
    "# The probabilities for each word are stored as log probabilites as log(P(A|f)) where f is a given feature\n",
    "# The reason these are stored as log probabilities is because the actual values are ver low \n",
    "# -> Log stop underflow errors where small probabilities are just rounded to zeros\n",
    "# Ofc, since the probabilities are multiplied together (check Naive Bayes theorem), a single value of 0 will\n",
    "# result in the whole answer always being 0\n",
    "feature_probabilities = nb.feature_log_prob_\n",
    "\n",
    "# Get the top features' indices\n",
    "top_features = np.argsort(-nb.feature_log_prob_[1])[:50]\n",
    "\n",
    "# Map features' indices to actual values\n",
    "dv = model.named_steps['vectorizer']\n",
    "for i, feature_index in enumerate(top_features):\n",
    "    print(i, dv.feature_names_[feature_index], np.exp(feature_probabilities[1][feature_index]))"
   ]
  },
  {
   "cell_type": "markdown",
   "metadata": {},
   "source": [
    "#### Sample results of running the cell\n",
    "\n",
    "0 : 0.53125\n",
    "\n",
    "1 # 0.51875\n",
    "\n",
    "2 Python 0.4875\n",
    "\n",
    "3 python 0.40625\n",
    "\n",
    "4 RT 0.26875\n",
    "\n",
    "5 in 0.21875\n",
    "\n",
    "6 - 0.2\n",
    "\n",
    "7 to 0.19375\n",
    "\n",
    "8 , 0.1875\n",
    "\n",
    "9 for 0.175\n",
    "\n",
    "10 and 0.1375"
   ]
  },
  {
   "cell_type": "markdown",
   "metadata": {},
   "source": [
    "There are few features like `:` or `#` that are likely to be noise. Collecting more data is critical to smoothing out these issues.\n",
    "\n",
    "Looking through these features gives us quite a few benefits. We could train people to recognize these tweets, look for commonalities (which give insight into a topic) or even get rid of features that make no sense. eg: RT appears quite high since it's a common Twitter phrase for retweet &rightarrow; an expert could decide to remove this word from the list, making the classifier less prone to noise."
   ]
  },
  {
   "cell_type": "code",
   "execution_count": null,
   "metadata": {},
   "outputs": [],
   "source": []
  }
 ],
 "metadata": {
  "kernelspec": {
   "display_name": "Python 3",
   "language": "python",
   "name": "python3"
  },
  "language_info": {
   "codemirror_mode": {
    "name": "ipython",
    "version": 3
   },
   "file_extension": ".py",
   "mimetype": "text/x-python",
   "name": "python",
   "nbconvert_exporter": "python",
   "pygments_lexer": "ipython3",
   "version": "3.8.5"
  }
 },
 "nbformat": 4,
 "nbformat_minor": 4
}
