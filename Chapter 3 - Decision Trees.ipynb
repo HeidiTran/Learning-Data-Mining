{
 "cells": [
  {
   "cell_type": "code",
   "execution_count": 1,
   "metadata": {},
   "outputs": [],
   "source": [
    "import pandas as pd\n",
    "\n",
    "data_filename = \"data/basketball.csv\"\n",
    "dataset = pd.read_csv(data_filename)"
   ]
  },
  {
   "cell_type": "markdown",
   "metadata": {},
   "source": [
    "# I. Import and Clean dataset"
   ]
  },
  {
   "cell_type": "code",
   "execution_count": 2,
   "metadata": {},
   "outputs": [
    {
     "data": {
      "text/html": [
       "<div>\n",
       "<style scoped>\n",
       "    .dataframe tbody tr th:only-of-type {\n",
       "        vertical-align: middle;\n",
       "    }\n",
       "\n",
       "    .dataframe tbody tr th {\n",
       "        vertical-align: top;\n",
       "    }\n",
       "\n",
       "    .dataframe thead th {\n",
       "        text-align: right;\n",
       "    }\n",
       "</style>\n",
       "<table border=\"1\" class=\"dataframe\">\n",
       "  <thead>\n",
       "    <tr style=\"text-align: right;\">\n",
       "      <th></th>\n",
       "      <th>Date</th>\n",
       "      <th>Start (ET)</th>\n",
       "      <th>Visitor/Neutral</th>\n",
       "      <th>PTS</th>\n",
       "      <th>Home/Neutral</th>\n",
       "      <th>PTS.1</th>\n",
       "      <th>Unnamed: 6</th>\n",
       "      <th>Unnamed: 7</th>\n",
       "      <th>Attend.</th>\n",
       "      <th>Notes</th>\n",
       "    </tr>\n",
       "  </thead>\n",
       "  <tbody>\n",
       "    <tr>\n",
       "      <th>0</th>\n",
       "      <td>Tue Oct 27 2015</td>\n",
       "      <td>8:00p</td>\n",
       "      <td>Cleveland Cavaliers</td>\n",
       "      <td>95</td>\n",
       "      <td>Chicago Bulls</td>\n",
       "      <td>97</td>\n",
       "      <td>Box Score</td>\n",
       "      <td>NaN</td>\n",
       "      <td>21957</td>\n",
       "      <td>NaN</td>\n",
       "    </tr>\n",
       "    <tr>\n",
       "      <th>1</th>\n",
       "      <td>Tue Oct 27 2015</td>\n",
       "      <td>8:00p</td>\n",
       "      <td>Detroit Pistons</td>\n",
       "      <td>106</td>\n",
       "      <td>Atlanta Hawks</td>\n",
       "      <td>94</td>\n",
       "      <td>Box Score</td>\n",
       "      <td>NaN</td>\n",
       "      <td>19187</td>\n",
       "      <td>NaN</td>\n",
       "    </tr>\n",
       "    <tr>\n",
       "      <th>2</th>\n",
       "      <td>Tue Oct 27 2015</td>\n",
       "      <td>10:30p</td>\n",
       "      <td>New Orleans Pelicans</td>\n",
       "      <td>95</td>\n",
       "      <td>Golden State Warriors</td>\n",
       "      <td>111</td>\n",
       "      <td>Box Score</td>\n",
       "      <td>NaN</td>\n",
       "      <td>19596</td>\n",
       "      <td>NaN</td>\n",
       "    </tr>\n",
       "    <tr>\n",
       "      <th>3</th>\n",
       "      <td>Wed Oct 28 2015</td>\n",
       "      <td>7:00p</td>\n",
       "      <td>Washington Wizards</td>\n",
       "      <td>88</td>\n",
       "      <td>Orlando Magic</td>\n",
       "      <td>87</td>\n",
       "      <td>Box Score</td>\n",
       "      <td>NaN</td>\n",
       "      <td>18846</td>\n",
       "      <td>NaN</td>\n",
       "    </tr>\n",
       "    <tr>\n",
       "      <th>4</th>\n",
       "      <td>Wed Oct 28 2015</td>\n",
       "      <td>7:30p</td>\n",
       "      <td>Philadelphia 76ers</td>\n",
       "      <td>95</td>\n",
       "      <td>Boston Celtics</td>\n",
       "      <td>112</td>\n",
       "      <td>Box Score</td>\n",
       "      <td>NaN</td>\n",
       "      <td>18624</td>\n",
       "      <td>NaN</td>\n",
       "    </tr>\n",
       "  </tbody>\n",
       "</table>\n",
       "</div>"
      ],
      "text/plain": [
       "              Date Start (ET)       Visitor/Neutral  PTS  \\\n",
       "0  Tue Oct 27 2015      8:00p   Cleveland Cavaliers   95   \n",
       "1  Tue Oct 27 2015      8:00p       Detroit Pistons  106   \n",
       "2  Tue Oct 27 2015     10:30p  New Orleans Pelicans   95   \n",
       "3  Wed Oct 28 2015      7:00p    Washington Wizards   88   \n",
       "4  Wed Oct 28 2015      7:30p    Philadelphia 76ers   95   \n",
       "\n",
       "            Home/Neutral  PTS.1 Unnamed: 6 Unnamed: 7  Attend. Notes  \n",
       "0          Chicago Bulls     97  Box Score        NaN    21957   NaN  \n",
       "1          Atlanta Hawks     94  Box Score        NaN    19187   NaN  \n",
       "2  Golden State Warriors    111  Box Score        NaN    19596   NaN  \n",
       "3          Orlando Magic     87  Box Score        NaN    18846   NaN  \n",
       "4         Boston Celtics    112  Box Score        NaN    18624   NaN  "
      ]
     },
     "execution_count": 2,
     "metadata": {},
     "output_type": "execute_result"
    }
   ],
   "source": [
    "dataset.head()"
   ]
  },
  {
   "cell_type": "code",
   "execution_count": 3,
   "metadata": {},
   "outputs": [],
   "source": [
    "dataset = pd.read_csv(data_filename, parse_dates=[\"Date\"])\n",
    "dataset = dataset.drop('Attend.', axis='columns') \n",
    "dataset.columns = [\"Date\", \"Start (ET)\", \"Visitor Team\", \"VisitorPts\", \"Home Team\", \"HomePts\", \"OT?\", \"Score Type\", \"Notes\"]"
   ]
  },
  {
   "cell_type": "code",
   "execution_count": 4,
   "metadata": {},
   "outputs": [
    {
     "data": {
      "text/html": [
       "<div>\n",
       "<style scoped>\n",
       "    .dataframe tbody tr th:only-of-type {\n",
       "        vertical-align: middle;\n",
       "    }\n",
       "\n",
       "    .dataframe tbody tr th {\n",
       "        vertical-align: top;\n",
       "    }\n",
       "\n",
       "    .dataframe thead th {\n",
       "        text-align: right;\n",
       "    }\n",
       "</style>\n",
       "<table border=\"1\" class=\"dataframe\">\n",
       "  <thead>\n",
       "    <tr style=\"text-align: right;\">\n",
       "      <th></th>\n",
       "      <th>Date</th>\n",
       "      <th>Start (ET)</th>\n",
       "      <th>Visitor Team</th>\n",
       "      <th>VisitorPts</th>\n",
       "      <th>Home Team</th>\n",
       "      <th>HomePts</th>\n",
       "      <th>OT?</th>\n",
       "      <th>Score Type</th>\n",
       "      <th>Notes</th>\n",
       "    </tr>\n",
       "  </thead>\n",
       "  <tbody>\n",
       "    <tr>\n",
       "      <th>0</th>\n",
       "      <td>2015-10-27</td>\n",
       "      <td>8:00p</td>\n",
       "      <td>Cleveland Cavaliers</td>\n",
       "      <td>95</td>\n",
       "      <td>Chicago Bulls</td>\n",
       "      <td>97</td>\n",
       "      <td>Box Score</td>\n",
       "      <td>NaN</td>\n",
       "      <td>NaN</td>\n",
       "    </tr>\n",
       "    <tr>\n",
       "      <th>1</th>\n",
       "      <td>2015-10-27</td>\n",
       "      <td>8:00p</td>\n",
       "      <td>Detroit Pistons</td>\n",
       "      <td>106</td>\n",
       "      <td>Atlanta Hawks</td>\n",
       "      <td>94</td>\n",
       "      <td>Box Score</td>\n",
       "      <td>NaN</td>\n",
       "      <td>NaN</td>\n",
       "    </tr>\n",
       "    <tr>\n",
       "      <th>2</th>\n",
       "      <td>2015-10-27</td>\n",
       "      <td>10:30p</td>\n",
       "      <td>New Orleans Pelicans</td>\n",
       "      <td>95</td>\n",
       "      <td>Golden State Warriors</td>\n",
       "      <td>111</td>\n",
       "      <td>Box Score</td>\n",
       "      <td>NaN</td>\n",
       "      <td>NaN</td>\n",
       "    </tr>\n",
       "    <tr>\n",
       "      <th>3</th>\n",
       "      <td>2015-10-28</td>\n",
       "      <td>7:00p</td>\n",
       "      <td>Washington Wizards</td>\n",
       "      <td>88</td>\n",
       "      <td>Orlando Magic</td>\n",
       "      <td>87</td>\n",
       "      <td>Box Score</td>\n",
       "      <td>NaN</td>\n",
       "      <td>NaN</td>\n",
       "    </tr>\n",
       "    <tr>\n",
       "      <th>4</th>\n",
       "      <td>2015-10-28</td>\n",
       "      <td>7:30p</td>\n",
       "      <td>Philadelphia 76ers</td>\n",
       "      <td>95</td>\n",
       "      <td>Boston Celtics</td>\n",
       "      <td>112</td>\n",
       "      <td>Box Score</td>\n",
       "      <td>NaN</td>\n",
       "      <td>NaN</td>\n",
       "    </tr>\n",
       "  </tbody>\n",
       "</table>\n",
       "</div>"
      ],
      "text/plain": [
       "        Date Start (ET)          Visitor Team  VisitorPts  \\\n",
       "0 2015-10-27      8:00p   Cleveland Cavaliers          95   \n",
       "1 2015-10-27      8:00p       Detroit Pistons         106   \n",
       "2 2015-10-27     10:30p  New Orleans Pelicans          95   \n",
       "3 2015-10-28      7:00p    Washington Wizards          88   \n",
       "4 2015-10-28      7:30p    Philadelphia 76ers          95   \n",
       "\n",
       "               Home Team  HomePts        OT? Score Type Notes  \n",
       "0          Chicago Bulls       97  Box Score        NaN   NaN  \n",
       "1          Atlanta Hawks       94  Box Score        NaN   NaN  \n",
       "2  Golden State Warriors      111  Box Score        NaN   NaN  \n",
       "3          Orlando Magic       87  Box Score        NaN   NaN  \n",
       "4         Boston Celtics      112  Box Score        NaN   NaN  "
      ]
     },
     "execution_count": 4,
     "metadata": {},
     "output_type": "execute_result"
    }
   ],
   "source": [
    "dataset.head()"
   ]
  },
  {
   "cell_type": "code",
   "execution_count": 5,
   "metadata": {
    "scrolled": true
   },
   "outputs": [
    {
     "data": {
      "text/plain": [
       "Date            datetime64[ns]\n",
       "Start (ET)              object\n",
       "Visitor Team            object\n",
       "VisitorPts               int64\n",
       "Home Team               object\n",
       "HomePts                  int64\n",
       "OT?                     object\n",
       "Score Type              object\n",
       "Notes                   object\n",
       "dtype: object"
      ]
     },
     "execution_count": 5,
     "metadata": {},
     "output_type": "execute_result"
    }
   ],
   "source": [
    "dataset.dtypes"
   ]
  },
  {
   "cell_type": "markdown",
   "metadata": {},
   "source": [
    "# Extract new features"
   ]
  },
  {
   "cell_type": "markdown",
   "metadata": {},
   "source": [
    "We specify our class as 1 if hte home team wins and 0 if the visitor team wins"
   ]
  },
  {
   "cell_type": "code",
   "execution_count": 6,
   "metadata": {},
   "outputs": [],
   "source": [
    "dataset[\"HomeWin\"] = dataset[\"VisitorPts\"] < dataset[\"HomePts\"]"
   ]
  },
  {
   "cell_type": "code",
   "execution_count": 7,
   "metadata": {},
   "outputs": [
    {
     "data": {
      "text/plain": [
       "array([ True, False,  True, ..., False,  True, False])"
      ]
     },
     "execution_count": 7,
     "metadata": {},
     "output_type": "execute_result"
    }
   ],
   "source": [
    "y_true = dataset[\"HomeWin\"].values\n",
    "y_true"
   ]
  },
  {
   "cell_type": "code",
   "execution_count": 8,
   "metadata": {},
   "outputs": [
    {
     "data": {
      "text/plain": [
       "0.5942249240121581"
      ]
     },
     "execution_count": 8,
     "metadata": {},
     "output_type": "execute_result"
    }
   ],
   "source": [
    "dataset[\"HomeWin\"].mean()"
   ]
  },
  {
   "cell_type": "markdown",
   "metadata": {},
   "source": [
    "The resulting value, around 0.59, indicates that the home team wins 59 percent of games on average. ***This means that if we our ML model always choose our Home team as the winning team. It has 59.42% of being correct***"
   ]
  },
  {
   "cell_type": "markdown",
   "metadata": {},
   "source": [
    "***Important Note***: We **can't** really use the features already present in their current form to do a prediction. We wouldn't know the scores of a game before we would need to predict the outcome of the game, so we can not use them as features.\n",
    "\n",
    "The first 2 features we want ot create to help us predict which team will win are whehter either of those two teams won their previous game. This would roughly approximate which team is currently playing well."
   ]
  },
  {
   "cell_type": "code",
   "execution_count": 9,
   "metadata": {},
   "outputs": [],
   "source": [
    "from collections import defaultdict\n",
    "\n",
    "# Key of this dictionary will be the team and the value will be whether they won their previous game\n",
    "won_last = defaultdict(int)\n",
    "dataset[\"HomeLastWin\"] = 0\n",
    "dataset[\"VisitorLastWin\"] = 0\n",
    "\n",
    "# Assume that our dataset is already in ascending order of \"Date\"\n",
    "for index, row in dataset.iterrows():\n",
    "    home_team = row[\"Home Team\"]\n",
    "    visitor_team = row[\"Visitor Team\"]\n",
    "    row[\"HomeLastWin\"] = won_last[home_team]\n",
    "    dataset.at[index, \"HomeLastWin\"] = won_last[home_team]\n",
    "    dataset.at[index, \"VisitorLastWin\"] = won_last[visitor_team]\n",
    "    \n",
    "    won_last[home_team] = int(row[\"HomeWin\"])\n",
    "    won_last[visitor_team] = 1 - int(row[\"HomeWin\"])"
   ]
  },
  {
   "cell_type": "markdown",
   "metadata": {},
   "source": [
    "Currently, `dataset` gives us a false values to all teams when they are first seen. We couls improve this features uing the previous year's data, but for simplicit, we will not do that in this chapter.\n",
    "\n",
    "The dataset will use as features is `X_previouswins`"
   ]
  },
  {
   "cell_type": "code",
   "execution_count": 10,
   "metadata": {},
   "outputs": [],
   "source": [
    "X_previouswins = dataset[[\"HomeLastWin\", \"VisitorLastWin\"]].values"
   ]
  },
  {
   "cell_type": "markdown",
   "metadata": {},
   "source": [
    "# III. Decision Trees"
   ]
  },
  {
   "cell_type": "code",
   "execution_count": 11,
   "metadata": {},
   "outputs": [
    {
     "name": "stdout",
     "output_type": "stream",
     "text": [
      "Accuracy: 59.4%\n"
     ]
    }
   ],
   "source": [
    "from sklearn.tree import DecisionTreeClassifier\n",
    "from sklearn.model_selection import cross_val_score\n",
    "import numpy as np\n",
    "\n",
    "clf = DecisionTreeClassifier(random_state=14)\n",
    "scores = cross_val_score(clf, X_previouswins, y_true,\n",
    "scoring='accuracy')\n",
    "print(\"Accuracy: {0:.1f}%\".format(np.mean(scores) * 100))"
   ]
  },
  {
   "cell_type": "markdown",
   "metadata": {},
   "source": [
    "This scores 59.4 percent: we are better than choosing randomly! However, we aren't beating our other baseline of just choosing the home team."
   ]
  },
  {
   "cell_type": "markdown",
   "metadata": {},
   "source": [
    "# IV. Add a new feature from a new dataset"
   ]
  },
  {
   "cell_type": "code",
   "execution_count": 12,
   "metadata": {
    "scrolled": true
   },
   "outputs": [
    {
     "data": {
      "text/html": [
       "<div>\n",
       "<style scoped>\n",
       "    .dataframe tbody tr th:only-of-type {\n",
       "        vertical-align: middle;\n",
       "    }\n",
       "\n",
       "    .dataframe tbody tr th {\n",
       "        vertical-align: top;\n",
       "    }\n",
       "\n",
       "    .dataframe thead th {\n",
       "        text-align: right;\n",
       "    }\n",
       "</style>\n",
       "<table border=\"1\" class=\"dataframe\">\n",
       "  <thead>\n",
       "    <tr style=\"text-align: right;\">\n",
       "      <th></th>\n",
       "      <th>Rk</th>\n",
       "      <th>Team</th>\n",
       "      <th>Overall</th>\n",
       "      <th>Home</th>\n",
       "      <th>Road</th>\n",
       "      <th>E</th>\n",
       "      <th>W</th>\n",
       "      <th>A</th>\n",
       "      <th>C</th>\n",
       "      <th>SE</th>\n",
       "      <th>...</th>\n",
       "      <th>Post</th>\n",
       "      <th>≤3</th>\n",
       "      <th>≥10</th>\n",
       "      <th>Oct</th>\n",
       "      <th>Nov</th>\n",
       "      <th>Dec</th>\n",
       "      <th>Jan</th>\n",
       "      <th>Feb</th>\n",
       "      <th>Mar</th>\n",
       "      <th>Apr</th>\n",
       "    </tr>\n",
       "  </thead>\n",
       "  <tbody>\n",
       "    <tr>\n",
       "      <th>0</th>\n",
       "      <td>1</td>\n",
       "      <td>Golden State Warriors</td>\n",
       "      <td>67-15</td>\n",
       "      <td>39-2</td>\n",
       "      <td>28-13</td>\n",
       "      <td>25-5</td>\n",
       "      <td>42-10</td>\n",
       "      <td>9-1</td>\n",
       "      <td>7-3</td>\n",
       "      <td>9-1</td>\n",
       "      <td>...</td>\n",
       "      <td>25-6</td>\n",
       "      <td>5-3</td>\n",
       "      <td>45-9</td>\n",
       "      <td>1-0</td>\n",
       "      <td>13-2</td>\n",
       "      <td>11-3</td>\n",
       "      <td>12-3</td>\n",
       "      <td>8-3</td>\n",
       "      <td>16-2</td>\n",
       "      <td>6-2</td>\n",
       "    </tr>\n",
       "    <tr>\n",
       "      <th>1</th>\n",
       "      <td>2</td>\n",
       "      <td>Atlanta Hawks</td>\n",
       "      <td>60-22</td>\n",
       "      <td>35-6</td>\n",
       "      <td>25-16</td>\n",
       "      <td>38-14</td>\n",
       "      <td>22-8</td>\n",
       "      <td>12-6</td>\n",
       "      <td>14-4</td>\n",
       "      <td>12-4</td>\n",
       "      <td>...</td>\n",
       "      <td>17-11</td>\n",
       "      <td>6-4</td>\n",
       "      <td>30-10</td>\n",
       "      <td>0-1</td>\n",
       "      <td>9-5</td>\n",
       "      <td>14-2</td>\n",
       "      <td>17-0</td>\n",
       "      <td>7-4</td>\n",
       "      <td>9-7</td>\n",
       "      <td>4-3</td>\n",
       "    </tr>\n",
       "    <tr>\n",
       "      <th>2</th>\n",
       "      <td>3</td>\n",
       "      <td>Houston Rockets</td>\n",
       "      <td>56-26</td>\n",
       "      <td>30-11</td>\n",
       "      <td>26-15</td>\n",
       "      <td>23-7</td>\n",
       "      <td>33-19</td>\n",
       "      <td>9-1</td>\n",
       "      <td>8-2</td>\n",
       "      <td>6-4</td>\n",
       "      <td>...</td>\n",
       "      <td>20-9</td>\n",
       "      <td>8-4</td>\n",
       "      <td>31-14</td>\n",
       "      <td>2-0</td>\n",
       "      <td>11-4</td>\n",
       "      <td>9-5</td>\n",
       "      <td>11-6</td>\n",
       "      <td>7-3</td>\n",
       "      <td>10-6</td>\n",
       "      <td>6-2</td>\n",
       "    </tr>\n",
       "    <tr>\n",
       "      <th>3</th>\n",
       "      <td>4</td>\n",
       "      <td>Los Angeles Clippers</td>\n",
       "      <td>56-26</td>\n",
       "      <td>30-11</td>\n",
       "      <td>26-15</td>\n",
       "      <td>19-11</td>\n",
       "      <td>37-15</td>\n",
       "      <td>7-3</td>\n",
       "      <td>6-4</td>\n",
       "      <td>6-4</td>\n",
       "      <td>...</td>\n",
       "      <td>21-7</td>\n",
       "      <td>3-5</td>\n",
       "      <td>33-9</td>\n",
       "      <td>2-0</td>\n",
       "      <td>9-5</td>\n",
       "      <td>11-6</td>\n",
       "      <td>11-4</td>\n",
       "      <td>5-6</td>\n",
       "      <td>11-5</td>\n",
       "      <td>7-0</td>\n",
       "    </tr>\n",
       "    <tr>\n",
       "      <th>4</th>\n",
       "      <td>5</td>\n",
       "      <td>Memphis Grizzlies</td>\n",
       "      <td>55-27</td>\n",
       "      <td>31-10</td>\n",
       "      <td>24-17</td>\n",
       "      <td>20-10</td>\n",
       "      <td>35-17</td>\n",
       "      <td>8-2</td>\n",
       "      <td>5-5</td>\n",
       "      <td>7-3</td>\n",
       "      <td>...</td>\n",
       "      <td>16-13</td>\n",
       "      <td>9-3</td>\n",
       "      <td>26-13</td>\n",
       "      <td>2-0</td>\n",
       "      <td>13-2</td>\n",
       "      <td>8-6</td>\n",
       "      <td>12-4</td>\n",
       "      <td>7-4</td>\n",
       "      <td>9-8</td>\n",
       "      <td>4-3</td>\n",
       "    </tr>\n",
       "  </tbody>\n",
       "</table>\n",
       "<p>5 rows × 24 columns</p>\n",
       "</div>"
      ],
      "text/plain": [
       "   Rk                   Team Overall   Home   Road      E      W     A     C  \\\n",
       "0   1  Golden State Warriors   67-15   39-2  28-13   25-5  42-10   9-1   7-3   \n",
       "1   2          Atlanta Hawks   60-22   35-6  25-16  38-14   22-8  12-6  14-4   \n",
       "2   3        Houston Rockets   56-26  30-11  26-15   23-7  33-19   9-1   8-2   \n",
       "3   4   Los Angeles Clippers   56-26  30-11  26-15  19-11  37-15   7-3   6-4   \n",
       "4   5      Memphis Grizzlies   55-27  31-10  24-17  20-10  35-17   8-2   5-5   \n",
       "\n",
       "     SE  ...   Post   ≤3    ≥10  Oct   Nov   Dec   Jan  Feb   Mar  Apr  \n",
       "0   9-1  ...   25-6  5-3   45-9  1-0  13-2  11-3  12-3  8-3  16-2  6-2  \n",
       "1  12-4  ...  17-11  6-4  30-10  0-1   9-5  14-2  17-0  7-4   9-7  4-3  \n",
       "2   6-4  ...   20-9  8-4  31-14  2-0  11-4   9-5  11-6  7-3  10-6  6-2  \n",
       "3   6-4  ...   21-7  3-5   33-9  2-0   9-5  11-6  11-4  5-6  11-5  7-0  \n",
       "4   7-3  ...  16-13  9-3  26-13  2-0  13-2   8-6  12-4  7-4   9-8  4-3  \n",
       "\n",
       "[5 rows x 24 columns]"
      ]
     },
     "execution_count": 12,
     "metadata": {},
     "output_type": "execute_result"
    }
   ],
   "source": [
    "standings_filename = \"data/standings.csv\"\n",
    "standings = pd.read_csv(standings_filename, skiprows=1)\n",
    "standings.head()"
   ]
  },
  {
   "cell_type": "markdown",
   "metadata": {},
   "source": [
    "We will create a feature that tells us if the home team is generally better than the visitors. High ranked team is more likely to win."
   ]
  },
  {
   "cell_type": "code",
   "execution_count": 15,
   "metadata": {},
   "outputs": [],
   "source": [
    "dataset[\"HomeTeamRanksHigher\"] = 0\n",
    "for index, row in dataset.iterrows():\n",
    "    home_team = row[\"Home Team\"]\n",
    "    visitor_team = row[\"Visitor Team\"]\n",
    "    home_rank = standings[standings[\"Team\"] == home_team][\"Rk\"].values[0]\n",
    "    visitor_rank = standings[standings[\"Team\"] == visitor_team][\"Rk\"].values[0]\n",
    "    dataset.at[index, \"HomeTeamRanksHigher\"] = int(home_rank < visitor_rank)"
   ]
  },
  {
   "cell_type": "code",
   "execution_count": 16,
   "metadata": {},
   "outputs": [],
   "source": [
    "X_homehigher = dataset[[ \"HomeTeamRanksHigher\", \"HomeLastWin\", \"VisitorLastWin\",]].values"
   ]
  },
  {
   "cell_type": "code",
   "execution_count": 17,
   "metadata": {},
   "outputs": [
    {
     "name": "stdout",
     "output_type": "stream",
     "text": [
      "Accuracy: 61.8%\n"
     ]
    }
   ],
   "source": [
    "clf = DecisionTreeClassifier(random_state=14, criterion=\"entropy\")\n",
    "\n",
    "scores = cross_val_score(clf, X_homehigher, y_true, scoring='accuracy')\n",
    "\n",
    "print(\"Accuracy: {0:.1f}%\".format(np.mean(scores) * 100))"
   ]
  },
  {
   "cell_type": "markdown",
   "metadata": {},
   "source": [
    "Next, we will add another feature: which of the two teams won their last match against each other. The reason behind this is some teams may have strategies or players that work agianst specific teams really well."
   ]
  },
  {
   "cell_type": "code",
   "execution_count": 19,
   "metadata": {},
   "outputs": [],
   "source": [
    "last_match_winner = defaultdict(int)\n",
    "dataset[\"HomeTeamWonLast\"] = 0\n",
    "\n",
    "for index, row in dataset.iterrows():\n",
    "    home_team = row[\"Home Team\"]\n",
    "    visitor_team = row[\"Visitor Team\"]\n",
    "    teams = tuple(sorted([home_team, visitor_team]))  # Sort for a consistent ordering\n",
    "    # Set in the row, who won the last encounter\n",
    "    home_team_won_last = 1 if last_match_winner[teams] == row[\"Home Team\"] else 0\n",
    "    dataset.at[index, \"HomeTeamWonLast\"] = home_team_won_last\n",
    "    # Who won this one?\n",
    "    winner = row[\"Home Team\"] if row[\"HomeWin\"] else row[\"Visitor Team\"]\n",
    "    last_match_winner[teams] = winner"
   ]
  },
  {
   "cell_type": "markdown",
   "metadata": {},
   "source": [
    "Test the Decision Tree algo on the new dataset."
   ]
  },
  {
   "cell_type": "code",
   "execution_count": 20,
   "metadata": {},
   "outputs": [
    {
     "name": "stdout",
     "output_type": "stream",
     "text": [
      "Accuracy: 62.4%\n"
     ]
    }
   ],
   "source": [
    "X_lastwinner = dataset[[ \"HomeTeamWonLast\", \"HomeTeamRanksHigher\", \"HomeLastWin\", \"VisitorLastWin\",]].values\n",
    "clf = DecisionTreeClassifier(random_state=14, criterion=\"entropy\")\n",
    "\n",
    "scores = cross_val_score(clf, X_lastwinner, y_true, scoring='accuracy')\n",
    "\n",
    "print(\"Accuracy: {0:.1f}%\".format(np.mean(scores) * 100))"
   ]
  },
  {
   "cell_type": "markdown",
   "metadata": {},
   "source": [
    "Our result is getting better and better."
   ]
  },
  {
   "cell_type": "markdown",
   "metadata": {},
   "source": [
    "# V. Add another feature"
   ]
  },
  {
   "cell_type": "code",
   "execution_count": 25,
   "metadata": {},
   "outputs": [],
   "source": [
    "# Encode categorical data into integer values\n",
    "from sklearn.preprocessing import LabelEncoder\n",
    "encoding = LabelEncoder()\n",
    "encoding.fit(dataset[\"Home Team\"].values)\n",
    "\n",
    "# Use the same transformer for encoding both the home team and visitor teams so that the same team gets the same integer\n",
    "home_teams = encoding.transform(dataset[\"Home Team\"].values)\n",
    "visitor_teams = encoding.transform(dataset[\"Visitor Team\"].values)\n",
    "X_teams = np.vstack([home_teams, visitor_teams]).T\n",
    "\n",
    "'''\n",
    "The integers stored in `X_teams` can be fed into the Decision Tree but they will still be interpreted as continuous features \n",
    "by `DecisionTreeClassifier`. For example, teams may be allocated integers from 0 to 16. The algo will see teams 1 and 2 as \n",
    "being similar, while team 1 and 10 will be very different. This doesn't make sense since 2 teams are either the same \n",
    "or different. \n",
    "\n",
    "To fix this inconsistency, we use the `OnceHotEncoder` to encode these integers into a number of binary features. Each binary \n",
    "feature will be a single value for the feature. For example, if the Chicago Bulls is allocated as integer 7 by the LabelEncoder,\n",
    "then the seventh feature returned by the `OneHotEncoder` will be a 1 if the team is Chicago Bulls nad 0 for all other features.\n",
    "---> this might result in a much larger dataset.\n",
    "'''\n",
    "\n",
    "from sklearn.preprocessing import OneHotEncoder\n",
    "onehot = OneHotEncoder()\n",
    "X_teams = onehot.fit_transform(X_teams).todense()"
   ]
  },
  {
   "cell_type": "markdown",
   "metadata": {},
   "source": [
    "`X_teams` is a dataset containing information on what teams are playing."
   ]
  },
  {
   "cell_type": "code",
   "execution_count": 27,
   "metadata": {},
   "outputs": [
    {
     "name": "stdout",
     "output_type": "stream",
     "text": [
      "Accuracy: 63.7%\n"
     ]
    }
   ],
   "source": [
    "clf = DecisionTreeClassifier(random_state=14)\n",
    "scores = cross_val_score(clf, X_teams, y_true, scoring='accuracy')\n",
    "print(\"Accuracy: {0:.1f}%\".format(np.mean(scores) * 100))"
   ]
  },
  {
   "cell_type": "markdown",
   "metadata": {},
   "source": [
    "The accuracy score is better than before even though the info given is just the teams playing. It is possible that the larger # of features were not handled properly by the decision trees."
   ]
  },
  {
   "cell_type": "markdown",
   "metadata": {},
   "source": [
    "# VI. Use Random Forests"
   ]
  },
  {
   "cell_type": "markdown",
   "metadata": {},
   "source": [
    "Use Random Forests algo on only what teams playing"
   ]
  },
  {
   "cell_type": "code",
   "execution_count": 44,
   "metadata": {},
   "outputs": [
    {
     "name": "stdout",
     "output_type": "stream",
     "text": [
      "Accuracy: 64.7%\n"
     ]
    }
   ],
   "source": [
    "from sklearn.ensemble import RandomForestClassifier\n",
    "clf = RandomForestClassifier(random_state=14)\n",
    "scores = cross_val_score(clf, X_teams, y_true, scoring='accuracy')\n",
    "print(\"Accuracy: {0:.1f}%\".format(np.mean(scores) * 100))"
   ]
  },
  {
   "cell_type": "markdown",
   "metadata": {},
   "source": [
    "Use Random Forests on all features we have so far"
   ]
  },
  {
   "cell_type": "code",
   "execution_count": 51,
   "metadata": {
    "scrolled": true
   },
   "outputs": [
    {
     "name": "stdout",
     "output_type": "stream",
     "text": [
      "Accuracy: 64.4%\n"
     ]
    }
   ],
   "source": [
    "X_all = np.hstack([X_lastwinner, X_teams])\n",
    "clf = RandomForestClassifier(random_state=14)\n",
    "scores = cross_val_score(clf, X_all, y_true, scoring='accuracy')\n",
    "print(\"Accuracy: {0:.1f}%\".format(np.mean(scores) * 100))"
   ]
  },
  {
   "cell_type": "markdown",
   "metadata": {},
   "source": [
    "Bring the number of trees to 250"
   ]
  },
  {
   "cell_type": "code",
   "execution_count": 52,
   "metadata": {},
   "outputs": [
    {
     "name": "stdout",
     "output_type": "stream",
     "text": [
      "Accuracy: 64.4%\n"
     ]
    }
   ],
   "source": [
    "X_all = np.hstack([X_lastwinner, X_teams])\n",
    "clf = RandomForestClassifier(random_state=14, n_estimators=250)\n",
    "scores = cross_val_score(clf, X_all, y_true, scoring='accuracy')\n",
    "print(\"Accuracy: {0:.1f}%\".format(np.mean(scores) * 100))"
   ]
  },
  {
   "cell_type": "markdown",
   "metadata": {},
   "source": [
    "***Important***: Changing the random state value will have more of an impact on the accuracy than the slight difference etween these feature sets. You should run many tests with different random states to get a good sense of the mean and spread of accuracy values."
   ]
  },
  {
   "cell_type": "code",
   "execution_count": 54,
   "metadata": {},
   "outputs": [
    {
     "name": "stdout",
     "output_type": "stream",
     "text": [
      "Accuracy: 67.7%\n"
     ]
    }
   ],
   "source": [
    "from sklearn.model_selection import GridSearchCV\n",
    "parameter_space = {\n",
    "    \"max_features\": [2, 10, 'auto'],\n",
    "    \"n_estimators\": [100, 200],\n",
    "    \"criterion\": [\"gini\", \"entropy\"],\n",
    "    \"min_samples_leaf\": [2, 4, 6],\n",
    "}\n",
    "clf = RandomForestClassifier(random_state=14)\n",
    "grid = GridSearchCV(clf, parameter_space)\n",
    "grid.fit(X_all, y_true)\n",
    "print(\"Accuracy: {0:.1f}%\".format(grid.best_score_ * 100))"
   ]
  },
  {
   "cell_type": "markdown",
   "metadata": {},
   "source": [
    "To see what parameters used, we can print out the best model that was found in the grid search"
   ]
  },
  {
   "cell_type": "code",
   "execution_count": 55,
   "metadata": {},
   "outputs": [
    {
     "data": {
      "text/plain": [
       "RandomForestClassifier(criterion='entropy', min_samples_leaf=4,\n",
       "                       n_estimators=200, random_state=14)"
      ]
     },
     "execution_count": 55,
     "metadata": {},
     "output_type": "execute_result"
    }
   ],
   "source": [
    "grid.best_estimator_"
   ]
  },
  {
   "cell_type": "markdown",
   "metadata": {},
   "source": [
    "# VII. Ideas for more features\n",
    "- How many days has it been since each team's previous match? Teams may be tired if they play too many games in a short time frame\n",
    "- How many games of the last five did each team win? This will give a more stable form of the HomeLastWin and VisitorLastWin features we extracted earlier (and can be extracted in a very similar way).\n",
    "- Do teams have a good record when visiting certain other teams? For instance, one team may play well in a particular stadium, even if they are the visitors."
   ]
  },
  {
   "cell_type": "code",
   "execution_count": null,
   "metadata": {},
   "outputs": [],
   "source": []
  }
 ],
 "metadata": {
  "kernelspec": {
   "display_name": "Python 3",
   "language": "python",
   "name": "python3"
  },
  "language_info": {
   "codemirror_mode": {
    "name": "ipython",
    "version": 3
   },
   "file_extension": ".py",
   "mimetype": "text/x-python",
   "name": "python",
   "nbconvert_exporter": "python",
   "pygments_lexer": "ipython3",
   "version": "3.8.5"
  }
 },
 "nbformat": 4,
 "nbformat_minor": 4
}
